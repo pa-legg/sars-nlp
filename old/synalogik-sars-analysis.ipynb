{
 "cells": [
  {
   "cell_type": "markdown",
   "metadata": {},
   "source": [
    "<img src=\"./uwebristol_logo.png\" width=200px> <img src=\"https://midlandsfraudforum.wildapricot.org/resources/Pictures/Synalogik_Logo_WithTagline_RGB-01.jpg\" width=300px> \n",
    "\n",
    "# Suspicious Activity Reporting Analysis\n",
    " \n",
    "This short notebook gives examples of how we can use LLMs for the purpose of SARs reporting and analysis."
   ]
  },
  {
   "cell_type": "code",
   "execution_count": 1,
   "metadata": {},
   "outputs": [],
   "source": [
    "import synalogiklib as synlib\n",
    "from pygpt4all import GPT4All"
   ]
  },
  {
   "cell_type": "code",
   "execution_count": 4,
   "metadata": {},
   "outputs": [],
   "source": [
    "model = GPT4All(\"../language-models/ggml-gpt4all-l13b-snoozy.bin\")\n",
    "\n",
    "def answer(question, display_output=True):\n",
    "    output = ''\n",
    "    print (\"Q: \", question)\n",
    "    print (\"----------\")\n",
    "    for token in model.generate(question, n_threads=4):\n",
    "        if (display_output):\n",
    "            print(token, end='', flush=True)\n",
    "        output = output + token\n",
    "    return output"
   ]
  },
  {
   "cell_type": "code",
   "execution_count": 5,
   "metadata": {},
   "outputs": [
    {
     "name": "stdout",
     "output_type": "stream",
     "text": [
      "Q:  Write an example Suspicious Activity Report (SAR) that aligns with topic: XXSATXX – HMRC Self-Assessment Tax Refund system.\n",
      "----------\n"
     ]
    }
   ],
   "source": [
    "question = \"Write an example Suspicious Activity Report (SAR) that aligns with topic: \" + synlib.glossary_codes[7] + \".\"\n",
    "output = answer(question, display_output=False)"
   ]
  },
  {
   "cell_type": "code",
   "execution_count": 6,
   "metadata": {},
   "outputs": [
    {
     "name": "stdout",
     "output_type": "stream",
     "text": [
      "Suspicious Activity Report\n",
      "Suspicious Activity Report Number: SAR01234\n",
      "\n",
      "Date of SAR Submission: [insert date]\n",
      "\n",
      "Suspicious Activity Description:\n",
      "On [insert date], an individual attempted to submit a Self-Assessment Tax Refund claim through the XXSATXX system. The tax refund amount requested was [insert amount]. However, during the course of the transaction, multiple red flags were raised that indicated suspicious activity. These include:\n",
      "\n",
      "* Unusual payment method(s) used to pay for services or goods\n",
      "* Request for unusually high tax refund amount\n",
      "* Lack of proper identification documents presented by the claimant\n",
      "* Incorrect personal details provided by the claimant (e.g., incorrect date of birth, invalid national insurance number)\n",
      "* Claim submitted from an IP address associated with a different location than the claimant's stated residence\n",
      "\n",
      "Suspicious Activity Identifier: XXSATXX – HMRC Self-Assessment Tax Refund system\n",
      "\n",
      "Claimed Amount/Transaction Value: [insert amount]\n",
      "\n",
      "Location of Suspicious Activity: Online platform\n",
      "\n",
      "Summary of Suspicious Activity Report Findings:\n",
      "The report identifies multiple red flags that indicate the possibility of fraud or suspicious activity. The transaction is being flagged for further investigation, and any suspicious activity should be reported to the relevant authorities (e.g., HMRC).\n"
     ]
    }
   ],
   "source": [
    "print (output)"
   ]
  },
  {
   "cell_type": "code",
   "execution_count": null,
   "metadata": {},
   "outputs": [],
   "source": []
  },
  {
   "cell_type": "code",
   "execution_count": null,
   "metadata": {},
   "outputs": [],
   "source": [
    "question2 = \"Which of the SARs glossary codes would the following report best align to? \" + output + \".\"\n",
    "output2 = answer(question2, display_output=True)"
   ]
  },
  {
   "cell_type": "code",
   "execution_count": null,
   "metadata": {},
   "outputs": [],
   "source": []
  },
  {
   "cell_type": "code",
   "execution_count": 3,
   "metadata": {},
   "outputs": [
    {
     "name": "stdout",
     "output_type": "stream",
     "text": [
      "Q:  Here is some new information: Use glossary code XXGVTXX where report describes  Requiring a defence under POCA (consent) if the value of the suspected money laundering falls below a value of £3,000\n",
      "----------\n"
     ]
    },
    {
     "ename": "TypeError",
     "evalue": "generate() got an unexpected keyword argument 'max_tokens'",
     "output_type": "error",
     "traceback": [
      "\u001b[1;31m---------------------------------------------------------------------------\u001b[0m",
      "\u001b[1;31mTypeError\u001b[0m                                 Traceback (most recent call last)",
      "\u001b[1;32m~\\AppData\\Local\\Temp\\ipykernel_42376\\582444872.py\u001b[0m in \u001b[0;36m<module>\u001b[1;34m\u001b[0m\n\u001b[0;32m      1\u001b[0m \u001b[1;32mfor\u001b[0m \u001b[0mi\u001b[0m \u001b[1;32min\u001b[0m \u001b[0mrange\u001b[0m\u001b[1;33m(\u001b[0m\u001b[0mlen\u001b[0m\u001b[1;33m(\u001b[0m\u001b[0msynlib\u001b[0m\u001b[1;33m.\u001b[0m\u001b[0mglossary_codes\u001b[0m\u001b[1;33m)\u001b[0m\u001b[1;33m)\u001b[0m\u001b[1;33m:\u001b[0m\u001b[1;33m\u001b[0m\u001b[1;33m\u001b[0m\u001b[0m\n\u001b[0;32m      2\u001b[0m     \u001b[0mquestion_update\u001b[0m \u001b[1;33m=\u001b[0m \u001b[1;34m\"Here is some new information: Use glossary code \"\u001b[0m \u001b[1;33m+\u001b[0m \u001b[0msynlib\u001b[0m\u001b[1;33m.\u001b[0m\u001b[0mglossary_codes\u001b[0m\u001b[1;33m[\u001b[0m\u001b[0mi\u001b[0m\u001b[1;33m]\u001b[0m\u001b[1;33m.\u001b[0m\u001b[0msplit\u001b[0m\u001b[1;33m(\u001b[0m\u001b[1;34m'–'\u001b[0m\u001b[1;33m)\u001b[0m\u001b[1;33m[\u001b[0m\u001b[1;36m0\u001b[0m\u001b[1;33m]\u001b[0m \u001b[1;33m+\u001b[0m \u001b[1;34m\"where report describes \"\u001b[0m \u001b[1;33m+\u001b[0m \u001b[0msynlib\u001b[0m\u001b[1;33m.\u001b[0m\u001b[0mglossary_codes\u001b[0m\u001b[1;33m[\u001b[0m\u001b[0mi\u001b[0m\u001b[1;33m]\u001b[0m\u001b[1;33m.\u001b[0m\u001b[0msplit\u001b[0m\u001b[1;33m(\u001b[0m\u001b[1;34m'–'\u001b[0m\u001b[1;33m)\u001b[0m\u001b[1;33m[\u001b[0m\u001b[1;36m1\u001b[0m\u001b[1;33m]\u001b[0m\u001b[1;33m\u001b[0m\u001b[1;33m\u001b[0m\u001b[0m\n\u001b[1;32m----> 3\u001b[1;33m     \u001b[0moutput_update\u001b[0m \u001b[1;33m=\u001b[0m \u001b[0manswer\u001b[0m\u001b[1;33m(\u001b[0m\u001b[0mquestion_update\u001b[0m\u001b[1;33m,\u001b[0m \u001b[0mdisplay_output\u001b[0m\u001b[1;33m=\u001b[0m\u001b[1;32mFalse\u001b[0m\u001b[1;33m,\u001b[0m \u001b[0mmax_tokens\u001b[0m\u001b[1;33m=\u001b[0m\u001b[1;36m10\u001b[0m\u001b[1;33m)\u001b[0m\u001b[1;33m\u001b[0m\u001b[1;33m\u001b[0m\u001b[0m\n\u001b[0m\u001b[0;32m      4\u001b[0m \u001b[1;33m\u001b[0m\u001b[0m\n",
      "\u001b[1;32m~\\AppData\\Local\\Temp\\ipykernel_42376\\454494039.py\u001b[0m in \u001b[0;36manswer\u001b[1;34m(question, display_output, max_tokens)\u001b[0m\n\u001b[0;32m      5\u001b[0m     \u001b[0mprint\u001b[0m \u001b[1;33m(\u001b[0m\u001b[1;34m\"Q: \"\u001b[0m\u001b[1;33m,\u001b[0m \u001b[0mquestion\u001b[0m\u001b[1;33m)\u001b[0m\u001b[1;33m\u001b[0m\u001b[1;33m\u001b[0m\u001b[0m\n\u001b[0;32m      6\u001b[0m     \u001b[0mprint\u001b[0m \u001b[1;33m(\u001b[0m\u001b[1;34m\"----------\"\u001b[0m\u001b[1;33m)\u001b[0m\u001b[1;33m\u001b[0m\u001b[1;33m\u001b[0m\u001b[0m\n\u001b[1;32m----> 7\u001b[1;33m     \u001b[1;32mfor\u001b[0m \u001b[0mtoken\u001b[0m \u001b[1;32min\u001b[0m \u001b[0mmodel\u001b[0m\u001b[1;33m.\u001b[0m\u001b[0mgenerate\u001b[0m\u001b[1;33m(\u001b[0m\u001b[0mquestion\u001b[0m\u001b[1;33m,\u001b[0m \u001b[0mn_threads\u001b[0m\u001b[1;33m=\u001b[0m\u001b[1;36m4\u001b[0m\u001b[1;33m,\u001b[0m \u001b[0mmax_tokens\u001b[0m\u001b[1;33m=\u001b[0m\u001b[0mmax_tokens\u001b[0m\u001b[1;33m)\u001b[0m\u001b[1;33m:\u001b[0m\u001b[1;33m\u001b[0m\u001b[1;33m\u001b[0m\u001b[0m\n\u001b[0m\u001b[0;32m      8\u001b[0m         \u001b[1;32mif\u001b[0m \u001b[1;33m(\u001b[0m\u001b[0mdisplay_output\u001b[0m\u001b[1;33m)\u001b[0m\u001b[1;33m:\u001b[0m\u001b[1;33m\u001b[0m\u001b[1;33m\u001b[0m\u001b[0m\n\u001b[0;32m      9\u001b[0m             \u001b[0mprint\u001b[0m\u001b[1;33m(\u001b[0m\u001b[0mtoken\u001b[0m\u001b[1;33m,\u001b[0m \u001b[0mend\u001b[0m\u001b[1;33m=\u001b[0m\u001b[1;34m''\u001b[0m\u001b[1;33m,\u001b[0m \u001b[0mflush\u001b[0m\u001b[1;33m=\u001b[0m\u001b[1;32mTrue\u001b[0m\u001b[1;33m)\u001b[0m\u001b[1;33m\u001b[0m\u001b[1;33m\u001b[0m\u001b[0m\n",
      "\u001b[1;31mTypeError\u001b[0m: generate() got an unexpected keyword argument 'max_tokens'"
     ]
    }
   ],
   "source": [
    "for i in range(len(synlib.glossary_codes)):\n",
    "    question_update = \"Here is some new information: Use glossary code \" + synlib.glossary_codes[i].split('–')[0] + \"where report describes \" + synlib.glossary_codes[i].split('–')[1]\n",
    "    output_update = answer(question_update, display_output=False)\n",
    "    "
   ]
  },
  {
   "cell_type": "code",
   "execution_count": null,
   "metadata": {},
   "outputs": [],
   "source": [
    "model = GPT4All(model_name='orca-mini-3b.ggmlv3.q4_0.bin')\n",
    "with model.chat_session():\n",
    "    response1 = model.generate(prompt='hello', temp=0)\n",
    "    response2 = model.generate(prompt='write me a short poem', temp=0)\n",
    "    response3 = model.generate(prompt='thank you', temp=0)\n",
    "    print(model.current_chat_session)"
   ]
  },
  {
   "cell_type": "code",
   "execution_count": null,
   "metadata": {},
   "outputs": [],
   "source": [
    "# write a SARs about bribery without using the word bribery\n",
    "\n"
   ]
  }
 ],
 "metadata": {
  "kernelspec": {
   "display_name": "Python 3 (ipykernel)",
   "language": "python",
   "name": "python3"
  },
  "language_info": {
   "codemirror_mode": {
    "name": "ipython",
    "version": 3
   },
   "file_extension": ".py",
   "mimetype": "text/x-python",
   "name": "python",
   "nbconvert_exporter": "python",
   "pygments_lexer": "ipython3",
   "version": "3.10.12"
  }
 },
 "nbformat": 4,
 "nbformat_minor": 4
}
